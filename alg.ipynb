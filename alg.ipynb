{
 "cells": [
  {
   "cell_type": "code",
   "execution_count": 24,
   "id": "4927eb40",
   "metadata": {},
   "outputs": [],
   "source": [
    "import nltk\n",
    "from nltk.corpus import stopwords\n",
    "from nltk.tokenize import RegexpTokenizer\n",
    "from nltk.stem import WordNetLemmatizer , PorterStemmer\n",
    "# nltk.download('wordnet')\n",
    "# nltk.download('punkt')\n",
    "# nltk.download('stopwords')"
   ]
  },
  {
   "cell_type": "code",
   "execution_count": 25,
   "id": "c574cc87",
   "metadata": {},
   "outputs": [],
   "source": [
    "data = \"Natural language processing (NLP) is a machine learning technology that gives computers the ability to interpret, manipulate, and comprehend human language. Natural language processing (NLP) is a machine learning technology that gives computers the ability to interpret, manipulate, and comprehend human language.\""
   ]
  },
  {
   "cell_type": "code",
   "execution_count": 26,
   "id": "efbaaa43",
   "metadata": {},
   "outputs": [
    {
     "name": "stdout",
     "output_type": "stream",
     "text": [
      "['natur', 'language', 'process', 'nlp', 'machine', 'learn', 'technolog', 'give', 'comput', 'abil', 'interpret', 'manipulate', 'comprehend', 'human', 'language', 'natur', 'language', 'process', 'nlp', 'machine', 'learn', 'technolog', 'give', 'comput', 'abil', 'interpret', 'manipulate', 'comprehend', 'human', 'language']\n"
     ]
    }
   ],
   "source": [
    "def tokenize(t):\n",
    "    tok =  RegexpTokenizer(r'[^\\d\\W]+')\n",
    "    lower_text = tok.tokenize(t.lower())\n",
    "    remove_stop = [w for w in lower_text if w not in stopwords.words('english')]\n",
    "    return remove_stop\n",
    "\n",
    "# Stemmer\n",
    "def stemmer(t):\n",
    "    ps = PorterStemmer()\n",
    "    wnl= WordNetLemmatizer()\n",
    "    result=[]\n",
    "    for x,test_word in enumerate(t):\n",
    "        ss = wnl.lemmatize(test_word) if wnl.lemmatize(test_word).endswith('e') else ps.stem(test_word)\n",
    "        result.append(ss)\n",
    "    return result\n",
    "result = tokenize(data)\n",
    "# print(result)\n",
    "result2 =stemmer(result)\n",
    "print(result2)"
   ]
  },
  {
   "cell_type": "code",
   "execution_count": 28,
   "id": "61fa6910",
   "metadata": {},
   "outputs": [
    {
     "name": "stdout",
     "output_type": "stream",
     "text": [
      "[('language', 4), ('natur', 2), ('process', 2), ('nlp', 2), ('machine', 2), ('learn', 2), ('technolog', 2), ('give', 2), ('comput', 2), ('abil', 2), ('interpret', 2), ('manipulate', 2), ('comprehend', 2), ('human', 2)]\n"
     ]
    }
   ],
   "source": [
    "#compute freq\n",
    "freq = nltk.FreqDist(result2) \n",
    "print(freq.most_common(2000))"
   ]
  },
  {
   "cell_type": "code",
   "execution_count": null,
   "id": "4d6274a5",
   "metadata": {},
   "outputs": [],
   "source": []
  }
 ],
 "metadata": {
  "kernelspec": {
   "display_name": "Python 3 (ipykernel)",
   "language": "python",
   "name": "python3"
  },
  "language_info": {
   "codemirror_mode": {
    "name": "ipython",
    "version": 3
   },
   "file_extension": ".py",
   "mimetype": "text/x-python",
   "name": "python",
   "nbconvert_exporter": "python",
   "pygments_lexer": "ipython3",
   "version": "3.11.4"
  }
 },
 "nbformat": 4,
 "nbformat_minor": 5
}
