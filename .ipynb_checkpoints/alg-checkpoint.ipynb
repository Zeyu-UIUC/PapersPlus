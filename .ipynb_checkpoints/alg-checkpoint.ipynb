{
 "cells": [
  {
   "cell_type": "code",
   "execution_count": 18,
   "id": "4927eb40",
   "metadata": {},
   "outputs": [],
   "source": [
    "import nltk\n",
    "from nltk.corpus import stopwords\n",
    "from nltk.tokenize import RegexpTokenizer\n",
    "from nltk.stem import WordNetLemmatizer , PorterStemmer\n",
    "# nltk.download('wordnet')\n",
    "# nltk.download('punkt')\n",
    "# nltk.download('stopwords')\n",
    "# !pip install gensim==3.2.0\n",
    "from gensim.summarization import summarize"
   ]
  },
  {
   "cell_type": "code",
   "execution_count": 24,
   "id": "c574cc87",
   "metadata": {},
   "outputs": [],
   "source": [
    "# data = \"Natural language processing (NLP) is a machine learning technology that gives computers the ability to interpret, manipulate, and comprehend human language. Natural language processing (NLP) is a machine learning technology that gives computers the ability to interpret, manipulate, and comprehend human language.\"\n",
    "with open(\"test.txt\", \"r\") as file:\n",
    "    data = file.read()"
   ]
  },
  {
   "cell_type": "code",
   "execution_count": 25,
   "id": "efbaaa43",
   "metadata": {},
   "outputs": [
    {
     "name": "stdout",
     "output_type": "stream",
     "text": [
      "['natural', 'language', 'processing', 'nlp', 'refers', 'branch', 'computer', 'scienceâ', 'specifically', 'branch', 'artificial', 'intelligence', 'aiâ', 'concerned', 'giving', 'computers', 'ability', 'understand', 'text', 'spoken', 'words', 'much', 'way', 'human', 'beings', 'nlp', 'combines', 'computational', 'linguisticsâ', 'rule', 'based', 'modeling', 'human', 'languageâ', 'statistical', 'machine', 'learning', 'deep', 'learning', 'models', 'together', 'technologies', 'enable', 'computers', 'process', 'human', 'language', 'form', 'text', 'voice', 'data', 'â', 'understandâ', 'full', 'meaning', 'complete', 'speaker', 'writerâ', 'intent', 'sentiment', 'nlp', 'drives', 'computer', 'programs', 'translate', 'text', 'one', 'language', 'another', 'respond', 'spoken', 'commands', 'summarize', 'large', 'volumes', 'text', 'rapidlyâ', 'even', 'real', 'time', 'thereâ', 'good', 'chance', 'youâ', 'interacted', 'nlp', 'form', 'voice', 'operated', 'gps', 'systems', 'digital', 'assistants', 'speech', 'text', 'dictation', 'software', 'customer', 'service', 'chatbots', 'consumer', 'conveniences', 'nlp', 'also', 'plays', 'growing', 'role', 'enterprise', 'solutions', 'help', 'streamline', 'business', 'operations', 'increase', 'employee', 'productivity', 'simplify', 'mission', 'critical', 'business', 'processes', 'human', 'language', 'filled', 'ambiguities', 'make', 'incredibly', 'difficult', 'write', 'software', 'accurately', 'determines', 'intended', 'meaning', 'text', 'voice', 'data', 'homonyms', 'homophones', 'sarcasm', 'idioms', 'metaphors', 'grammar', 'usage', 'exceptions', 'variations', 'sentence', 'structureâ', 'irregularities', 'human', 'language', 'take', 'humans', 'years', 'learn', 'programmers', 'must', 'teach', 'natural', 'language', 'driven', 'applications', 'recognize', 'understand', 'accurately', 'start', 'applications', 'going', 'useful']\n",
      "['natur', 'language', 'process', 'nlp', 'refer', 'branch', 'comput', 'scienceâ', 'specif', 'branch', 'artifici', 'intelligence', 'aiâ', 'concern', 'give', 'comput', 'abil', 'understand', 'text', 'spoken', 'word', 'much', 'way', 'human', 'be', 'nlp', 'combine', 'comput', 'linguisticsâ', 'rule', 'base', 'model', 'human', 'languageâ', 'statist', 'machine', 'learn', 'deep', 'learn', 'model', 'togeth', 'technolog', 'enable', 'comput', 'process', 'human', 'language', 'form', 'text', 'voice', 'data', 'â', 'understandâ', 'full', 'mean', 'complete', 'speaker', 'writerâ', 'intent', 'sentiment', 'nlp', 'drive', 'comput', 'program', 'translate', 'text', 'one', 'language', 'anoth', 'respond', 'spoken', 'command', 'summarize', 'large', 'volume', 'text', 'rapidlyâ', 'even', 'real', 'time', 'thereâ', 'good', 'chance', 'youâ', 'interact', 'nlp', 'form', 'voice', 'oper', 'gp', 'system', 'digit', 'assist', 'speech', 'text', 'dictat', 'software', 'custom', 'service', 'chatbot', 'consum', 'convenience', 'nlp', 'also', 'play', 'grow', 'role', 'enterprise', 'solut', 'help', 'streamline', 'busi', 'oper', 'increase', 'employee', 'product', 'simplifi', 'mission', 'critic', 'busi', 'process', 'human', 'language', 'fill', 'ambigu', 'make', 'incred', 'difficult', 'write', 'software', 'accur', 'determin', 'intend', 'mean', 'text', 'voice', 'data', 'homonym', 'homophone', 'sarcasm', 'idiom', 'metaphor', 'grammar', 'usage', 'except', 'variat', 'sentence', 'structureâ', 'irregular', 'human', 'language', 'take', 'human', 'year', 'learn', 'programm', 'must', 'teach', 'natur', 'language', 'driven', 'applic', 'recognize', 'understand', 'accur', 'start', 'applic', 'go', 'use']\n"
     ]
    }
   ],
   "source": [
    "def tokenize(t):\n",
    "    tok =  RegexpTokenizer(r'[^\\d\\W]+')\n",
    "    lower_text = tok.tokenize(t.lower())\n",
    "    remove_stop = [w for w in lower_text if w not in stopwords.words('english')]\n",
    "    return remove_stop\n",
    "\n",
    "# Stemmer\n",
    "def stemmer(t):\n",
    "    ps = PorterStemmer()\n",
    "    wnl= WordNetLemmatizer()\n",
    "    result=[]\n",
    "    for x,test_word in enumerate(t):\n",
    "        ss = wnl.lemmatize(test_word) if wnl.lemmatize(test_word).endswith('e') else ps.stem(test_word)\n",
    "        result.append(ss)\n",
    "    return result\n",
    "result = tokenize(data)\n",
    "print(result)\n",
    "result2 =stemmer(result)\n",
    "print(result2)"
   ]
  },
  {
   "cell_type": "code",
   "execution_count": 26,
   "id": "61fa6910",
   "metadata": {},
   "outputs": [
    {
     "name": "stdout",
     "output_type": "stream",
     "text": [
      "[('language', 6), ('text', 6), ('human', 6), ('nlp', 5), ('comput', 5), ('process', 3), ('learn', 3), ('voice', 3), ('natur', 2), ('branch', 2), ('understand', 2), ('spoken', 2), ('model', 2), ('form', 2), ('data', 2), ('mean', 2), ('oper', 2), ('software', 2), ('busi', 2), ('accur', 2)]\n"
     ]
    }
   ],
   "source": [
    "#compute freq\n",
    "freq = nltk.FreqDist(result2) \n",
    "print(freq.most_common(20))"
   ]
  },
  {
   "cell_type": "code",
   "execution_count": 22,
   "id": "4d6274a5",
   "metadata": {},
   "outputs": [],
   "source": [
    "# calculate TF_IDF maybe can skip stis step?"
   ]
  },
  {
   "cell_type": "code",
   "execution_count": 28,
   "id": "eecf109a",
   "metadata": {},
   "outputs": [
    {
     "name": "stdout",
     "output_type": "stream",
     "text": [
      "Natural language processing (NLP) refers to the branch of computer scienceâ€”and more specifically, the branch of artificial intelligence or AIâ€”concerned with giving computers the ability to understand text and spoken words in much the same way human beings can.\n"
     ]
    }
   ],
   "source": [
    "print(summarize(data, word_count=20))"
   ]
  },
  {
   "cell_type": "code",
   "execution_count": null,
   "id": "ec3b037f",
   "metadata": {},
   "outputs": [],
   "source": []
  }
 ],
 "metadata": {
  "kernelspec": {
   "display_name": "Python 3 (ipykernel)",
   "language": "python",
   "name": "python3"
  },
  "language_info": {
   "codemirror_mode": {
    "name": "ipython",
    "version": 3
   },
   "file_extension": ".py",
   "mimetype": "text/x-python",
   "name": "python",
   "nbconvert_exporter": "python",
   "pygments_lexer": "ipython3",
   "version": "3.11.4"
  }
 },
 "nbformat": 4,
 "nbformat_minor": 5
}
